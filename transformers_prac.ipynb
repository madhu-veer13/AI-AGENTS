{
  "nbformat": 4,
  "nbformat_minor": 0,
  "metadata": {
    "colab": {
      "provenance": [],
      "authorship_tag": "ABX9TyOwJ3+ehsH0ZnRNOZxk5VmA",
      "include_colab_link": true
    },
    "kernelspec": {
      "name": "python3",
      "display_name": "Python 3"
    },
    "language_info": {
      "name": "python"
    }
  },
  "cells": [
    {
      "cell_type": "markdown",
      "metadata": {
        "id": "view-in-github",
        "colab_type": "text"
      },
      "source": [
        "<a href=\"https://colab.research.google.com/github/madhu-veer13/AI-AGENTS/blob/main/transformers_prac.ipynb\" target=\"_parent\"><img src=\"https://colab.research.google.com/assets/colab-badge.svg\" alt=\"Open In Colab\"/></a>"
      ]
    },
    {
      "cell_type": "code",
      "execution_count": null,
      "metadata": {
        "colab": {
          "base_uri": "https://localhost:8080/"
        },
        "id": "7XeGCyHmHTB3",
        "outputId": "959dddc7-2b85-44e2-9b34-cfbcdc4f775b"
      },
      "outputs": [
        {
          "output_type": "stream",
          "name": "stdout",
          "text": [
            "Requirement already satisfied: SpeechRecognition in /usr/local/lib/python3.11/dist-packages (3.14.3)\n",
            "Requirement already satisfied: pydub in /usr/local/lib/python3.11/dist-packages (0.25.1)\n",
            "Requirement already satisfied: typing-extensions in /usr/local/lib/python3.11/dist-packages (from SpeechRecognition) (4.13.2)\n"
          ]
        }
      ],
      "source": [
        "!pip install SpeechRecognition pydub"
      ]
    },
    {
      "cell_type": "code",
      "source": [
        "!pip install transformers\n",
        "!pip install pipeline\n",
        "!pip install gTTS"
      ],
      "metadata": {
        "colab": {
          "base_uri": "https://localhost:8080/"
        },
        "id": "c7qvQknLHUv_",
        "outputId": "2e0c6991-6b57-40ff-d5d5-324d3f882d14"
      },
      "execution_count": null,
      "outputs": [
        {
          "output_type": "stream",
          "name": "stdout",
          "text": [
            "Requirement already satisfied: transformers in /usr/local/lib/python3.11/dist-packages (4.51.3)\n",
            "Requirement already satisfied: filelock in /usr/local/lib/python3.11/dist-packages (from transformers) (3.18.0)\n",
            "Requirement already satisfied: huggingface-hub<1.0,>=0.30.0 in /usr/local/lib/python3.11/dist-packages (from transformers) (0.31.2)\n",
            "Requirement already satisfied: numpy>=1.17 in /usr/local/lib/python3.11/dist-packages (from transformers) (2.0.2)\n",
            "Requirement already satisfied: packaging>=20.0 in /usr/local/lib/python3.11/dist-packages (from transformers) (24.2)\n",
            "Requirement already satisfied: pyyaml>=5.1 in /usr/local/lib/python3.11/dist-packages (from transformers) (6.0.2)\n",
            "Requirement already satisfied: regex!=2019.12.17 in /usr/local/lib/python3.11/dist-packages (from transformers) (2024.11.6)\n",
            "Requirement already satisfied: requests in /usr/local/lib/python3.11/dist-packages (from transformers) (2.32.3)\n",
            "Requirement already satisfied: tokenizers<0.22,>=0.21 in /usr/local/lib/python3.11/dist-packages (from transformers) (0.21.1)\n",
            "Requirement already satisfied: safetensors>=0.4.3 in /usr/local/lib/python3.11/dist-packages (from transformers) (0.5.3)\n",
            "Requirement already satisfied: tqdm>=4.27 in /usr/local/lib/python3.11/dist-packages (from transformers) (4.67.1)\n",
            "Requirement already satisfied: fsspec>=2023.5.0 in /usr/local/lib/python3.11/dist-packages (from huggingface-hub<1.0,>=0.30.0->transformers) (2025.3.2)\n",
            "Requirement already satisfied: typing-extensions>=3.7.4.3 in /usr/local/lib/python3.11/dist-packages (from huggingface-hub<1.0,>=0.30.0->transformers) (4.13.2)\n",
            "Requirement already satisfied: charset-normalizer<4,>=2 in /usr/local/lib/python3.11/dist-packages (from requests->transformers) (3.4.2)\n",
            "Requirement already satisfied: idna<4,>=2.5 in /usr/local/lib/python3.11/dist-packages (from requests->transformers) (3.10)\n",
            "Requirement already satisfied: urllib3<3,>=1.21.1 in /usr/local/lib/python3.11/dist-packages (from requests->transformers) (2.4.0)\n",
            "Requirement already satisfied: certifi>=2017.4.17 in /usr/local/lib/python3.11/dist-packages (from requests->transformers) (2025.4.26)\n",
            "Requirement already satisfied: pipeline in /usr/local/lib/python3.11/dist-packages (0.1.0)\n",
            "Requirement already satisfied: gTTS in /usr/local/lib/python3.11/dist-packages (2.5.4)\n",
            "Requirement already satisfied: requests<3,>=2.27 in /usr/local/lib/python3.11/dist-packages (from gTTS) (2.32.3)\n",
            "Requirement already satisfied: click<8.2,>=7.1 in /usr/local/lib/python3.11/dist-packages (from gTTS) (8.1.8)\n",
            "Requirement already satisfied: charset-normalizer<4,>=2 in /usr/local/lib/python3.11/dist-packages (from requests<3,>=2.27->gTTS) (3.4.2)\n",
            "Requirement already satisfied: idna<4,>=2.5 in /usr/local/lib/python3.11/dist-packages (from requests<3,>=2.27->gTTS) (3.10)\n",
            "Requirement already satisfied: urllib3<3,>=1.21.1 in /usr/local/lib/python3.11/dist-packages (from requests<3,>=2.27->gTTS) (2.4.0)\n",
            "Requirement already satisfied: certifi>=2017.4.17 in /usr/local/lib/python3.11/dist-packages (from requests<3,>=2.27->gTTS) (2025.4.26)\n"
          ]
        }
      ]
    },
    {
      "cell_type": "code",
      "source": [
        "!pip install secure-smtplib"
      ],
      "metadata": {
        "colab": {
          "base_uri": "https://localhost:8080/"
        },
        "id": "ewc_d25FHZRy",
        "outputId": "6c01d6be-478e-4962-d0de-588a58bd7c89"
      },
      "execution_count": null,
      "outputs": [
        {
          "output_type": "stream",
          "name": "stdout",
          "text": [
            "Requirement already satisfied: secure-smtplib in /usr/local/lib/python3.11/dist-packages (0.1.1)\n"
          ]
        }
      ]
    },
    {
      "cell_type": "code",
      "source": [
        "from transformers import pipeline\n",
        "s = pipeline('summarization')"
      ],
      "metadata": {
        "colab": {
          "base_uri": "https://localhost:8080/"
        },
        "id": "lp1vrYHCHd4c",
        "outputId": "31b8cbd9-d6dd-42ac-876e-57828564665f"
      },
      "execution_count": null,
      "outputs": [
        {
          "output_type": "stream",
          "name": "stderr",
          "text": [
            "No model was supplied, defaulted to sshleifer/distilbart-cnn-12-6 and revision a4f8f3e (https://huggingface.co/sshleifer/distilbart-cnn-12-6).\n",
            "Using a pipeline without specifying a model name and revision in production is not recommended.\n",
            "Device set to use cpu\n"
          ]
        }
      ]
    },
    {
      "cell_type": "code",
      "source": [
        "from gtts import gTTS\n",
        "from IPython.display import Audio"
      ],
      "metadata": {
        "id": "R0llxtl0HjJO"
      },
      "execution_count": null,
      "outputs": []
    },
    {
      "cell_type": "code",
      "source": [
        "from pydub import AudioSegment\n",
        "mp3_file = '/content/madhuveer.mp3'\n",
        "wav_file = '/content/madhuveer.wav'\n",
        "audio = AudioSegment.from_mp3(mp3_file)\n",
        "audio.export(wav_file, format='wav')"
      ],
      "metadata": {
        "colab": {
          "base_uri": "https://localhost:8080/"
        },
        "id": "aYvhG3N6HwhP",
        "outputId": "a53d0801-b63c-43fe-ed2f-9f556a12292d"
      },
      "execution_count": null,
      "outputs": [
        {
          "output_type": "execute_result",
          "data": {
            "text/plain": [
              "<_io.BufferedRandom name='/content/madhuveer.wav'>"
            ]
          },
          "metadata": {},
          "execution_count": 34
        }
      ]
    },
    {
      "cell_type": "code",
      "source": [
        "import speech_recognition as sr\n",
        "reco = sr.Recognizer()\n",
        "with sr.AudioFile('/content/madhuveer.wav') as source:\n",
        "  audio_data = reco.record(source)\n",
        "  print(\"Transcript : \", reco.recognize_google(audio_data))"
      ],
      "metadata": {
        "colab": {
          "base_uri": "https://localhost:8080/"
        },
        "id": "iRSyRI2RIRO1",
        "outputId": "310c746b-8c9f-45aa-a72d-560e54458ccf"
      },
      "execution_count": null,
      "outputs": [
        {
          "output_type": "stream",
          "name": "stdout",
          "text": [
            "Transcript :  post\n"
          ]
        }
      ]
    },
    {
      "cell_type": "code",
      "source": [
        "t = 'thank you okay with Bonnie everyone thank you for attending today meeting hey how are you doing today OK Google do you have any questions'"
      ],
      "metadata": {
        "id": "hPQ2Q8KzInla"
      },
      "execution_count": null,
      "outputs": []
    },
    {
      "cell_type": "code",
      "source": [
        "result = s(t)\n",
        "a= result[0].get('summary_text')"
      ],
      "metadata": {
        "colab": {
          "base_uri": "https://localhost:8080/"
        },
        "id": "WXR69SpCMfGM",
        "outputId": "7a272367-109c-43a7-f964-ced5e019950d"
      },
      "execution_count": null,
      "outputs": [
        {
          "output_type": "stream",
          "name": "stderr",
          "text": [
            "Your max_length is set to 142, but your input_length is only 27. Since this is a summarization task, where outputs shorter than the input are typically wanted, you might consider decreasing max_length manually, e.g. summarizer('...', max_length=13)\n"
          ]
        }
      ]
    },
    {
      "cell_type": "code",
      "source": [
        "print(a)"
      ],
      "metadata": {
        "colab": {
          "base_uri": "https://localhost:8080/"
        },
        "id": "ayRBOxZIRGHq",
        "outputId": "67ae4b29-a8d0-4ea2-d1b4-c1464e9e9290"
      },
      "execution_count": null,
      "outputs": [
        {
          "output_type": "stream",
          "name": "stdout",
          "text": [
            " Thank you for attending today meeting. thank you okay with Bonnie everyone . Google do you have any questions? Please email us at the end of the meeting. We'll be happy to answer any of our questions. Please share your thoughts with us on Twitter @dailymailonline.com and iReport .\n"
          ]
        }
      ]
    },
    {
      "cell_type": "code",
      "source": [
        "from email.mime.multipart import MIMEMultipart\n",
        "from email.mime.text import MIMEText"
      ],
      "metadata": {
        "id": "goJqCrhjSNEi"
      },
      "execution_count": null,
      "outputs": []
    },
    {
      "cell_type": "code",
      "source": [
        "sender_email = \"madhuveer098@gmail.com\"\n",
        "receiver_email = \"231fa04955@gmail.com\"\n",
        "password = \"avmx qltp oazu ayyg\"\n",
        "subject = \"Getting interatctions with colleagues\""
      ],
      "metadata": {
        "id": "qYjA6KOkRR9m"
      },
      "execution_count": null,
      "outputs": []
    },
    {
      "cell_type": "code",
      "source": [
        "msg = MIMEMultipart()\n",
        "msg['From'] = sender_email\n",
        "msg['To'] = receiver_email\n",
        "msg['Subject'] = subject"
      ],
      "metadata": {
        "id": "W36m9t22Rokv"
      },
      "execution_count": null,
      "outputs": []
    },
    {
      "cell_type": "code",
      "source": [
        "body = \"Hello \\n\\n\" + a + \"\\n\\n\" + \"Thank you\\nmadhu\""
      ],
      "metadata": {
        "id": "tqkpV-7KRq0d"
      },
      "execution_count": null,
      "outputs": []
    },
    {
      "cell_type": "code",
      "source": [
        "msg.attach(MIMEText(body, 'plain'))"
      ],
      "metadata": {
        "id": "ejXIQ4JhSSOj"
      },
      "execution_count": null,
      "outputs": []
    },
    {
      "cell_type": "code",
      "source": [
        "try:\n",
        "    server = smtplib.SMTP('smtp.gmail.com', 587)\n",
        "    server.starttls()\n",
        "    server.login(sender_email, password)\n",
        "    text = msg.as_string()\n",
        "    server.sendmail(sender_email, receiver_email, text)\n",
        "    server.quit()\n",
        "    print(\"Email sent successfully!\")\n",
        "except Exception as e:\n",
        "    print(f\"Error: {e}\")"
      ],
      "metadata": {
        "colab": {
          "base_uri": "https://localhost:8080/"
        },
        "id": "ZBFhMUu6SXEc",
        "outputId": "3a335767-b1b8-43c2-c491-7d08b8e9b005"
      },
      "execution_count": null,
      "outputs": [
        {
          "output_type": "stream",
          "name": "stdout",
          "text": [
            "Error: name 'smtplib' is not defined\n"
          ]
        }
      ]
    },
    {
      "cell_type": "code",
      "source": [
        "qa = pipeline('question-answering')\n"
      ],
      "metadata": {
        "colab": {
          "base_uri": "https://localhost:8080/"
        },
        "id": "Q1OD4wKMSjEc",
        "outputId": "3c7ad26c-d2f1-4154-aa0e-444f4358d211"
      },
      "execution_count": null,
      "outputs": [
        {
          "output_type": "stream",
          "name": "stderr",
          "text": [
            "No model was supplied, defaulted to distilbert/distilbert-base-cased-distilled-squad and revision 564e9b5 (https://huggingface.co/distilbert/distilbert-base-cased-distilled-squad).\n",
            "Using a pipeline without specifying a model name and revision in production is not recommended.\n",
            "Device set to use cpu\n"
          ]
        }
      ]
    },
    {
      "cell_type": "code",
      "source": [
        "c = '''thank you okay with Bonnie everyone thank you for attending today meeting hey how are you doing today OK Google do you have any questions.'''"
      ],
      "metadata": {
        "id": "lYHlTyoXSmaU"
      },
      "execution_count": null,
      "outputs": []
    },
    {
      "cell_type": "code",
      "source": [
        "q = \"What is the motive of the meeting?\""
      ],
      "metadata": {
        "id": "64tiTouySsx5"
      },
      "execution_count": null,
      "outputs": []
    },
    {
      "cell_type": "code",
      "source": [
        "result = qa(question=q, context=c)\n",
        "print(result)"
      ],
      "metadata": {
        "colab": {
          "base_uri": "https://localhost:8080/"
        },
        "id": "6E3XfM2QSvj8",
        "outputId": "a949bed7-cedd-484a-c17c-b66f08f25792"
      },
      "execution_count": null,
      "outputs": [
        {
          "output_type": "stream",
          "name": "stdout",
          "text": [
            "{'score': 0.14896082878112793, 'start': 105, 'end': 111, 'answer': 'Google'}\n"
          ]
        }
      ]
    },
    {
      "cell_type": "code",
      "source": [
        "a = pipeline('sentiment-analysis')"
      ],
      "metadata": {
        "colab": {
          "base_uri": "https://localhost:8080/"
        },
        "id": "UxJuh_uYSzS0",
        "outputId": "98a85492-103d-440b-8c16-d892780226a5"
      },
      "execution_count": null,
      "outputs": [
        {
          "output_type": "stream",
          "name": "stderr",
          "text": [
            "No model was supplied, defaulted to distilbert/distilbert-base-uncased-finetuned-sst-2-english and revision 714eb0f (https://huggingface.co/distilbert/distilbert-base-uncased-finetuned-sst-2-english).\n",
            "Using a pipeline without specifying a model name and revision in production is not recommended.\n",
            "Device set to use cpu\n"
          ]
        }
      ]
    },
    {
      "cell_type": "code",
      "source": [
        "text = input(\"Enter the text: \")\n",
        "result = a(text)\n",
        "print(result)\n"
      ],
      "metadata": {
        "colab": {
          "base_uri": "https://localhost:8080/"
        },
        "id": "Kssqs5TcTAhT",
        "outputId": "7e2c73cc-55f9-409a-9803-0e8d6ca22f2c"
      },
      "execution_count": null,
      "outputs": [
        {
          "output_type": "stream",
          "name": "stdout",
          "text": [
            "Enter the text:  i love u but i dont like u\n",
            "[{'label': 'NEGATIVE', 'score': 0.6894212365150452}]\n"
          ]
        }
      ]
    },
    {
      "cell_type": "code",
      "source": [
        "text = input(\"Enter the text: \")\n",
        "result = a(text)\n",
        "print(result)\n"
      ],
      "metadata": {
        "colab": {
          "base_uri": "https://localhost:8080/"
        },
        "id": "HG-EPKYzTGd-",
        "outputId": "8b95f32e-600b-4ffe-ed5e-f0c78453b123"
      },
      "execution_count": null,
      "outputs": [
        {
          "output_type": "stream",
          "name": "stdout",
          "text": [
            "Enter the text: i love u\n",
            "[{'label': 'POSITIVE', 'score': 0.9998582601547241}]\n"
          ]
        }
      ]
    },
    {
      "cell_type": "code",
      "source": [
        "!pip install googletrans==4.0.0-rc1"
      ],
      "metadata": {
        "colab": {
          "base_uri": "https://localhost:8080/"
        },
        "id": "vWigq89_UAXP",
        "outputId": "21b59285-b7e5-41eb-a78d-80a1c7c88090"
      },
      "execution_count": null,
      "outputs": [
        {
          "output_type": "stream",
          "name": "stdout",
          "text": [
            "Requirement already satisfied: googletrans==4.0.0-rc1 in /usr/local/lib/python3.11/dist-packages (4.0.0rc1)\n",
            "Requirement already satisfied: httpx==0.13.3 in /usr/local/lib/python3.11/dist-packages (from googletrans==4.0.0-rc1) (0.13.3)\n",
            "Requirement already satisfied: certifi in /usr/local/lib/python3.11/dist-packages (from httpx==0.13.3->googletrans==4.0.0-rc1) (2025.4.26)\n",
            "Requirement already satisfied: hstspreload in /usr/local/lib/python3.11/dist-packages (from httpx==0.13.3->googletrans==4.0.0-rc1) (2025.1.1)\n",
            "Requirement already satisfied: sniffio in /usr/local/lib/python3.11/dist-packages (from httpx==0.13.3->googletrans==4.0.0-rc1) (1.3.1)\n",
            "Requirement already satisfied: chardet==3.* in /usr/local/lib/python3.11/dist-packages (from httpx==0.13.3->googletrans==4.0.0-rc1) (3.0.4)\n",
            "Requirement already satisfied: idna==2.* in /usr/local/lib/python3.11/dist-packages (from httpx==0.13.3->googletrans==4.0.0-rc1) (2.10)\n",
            "Requirement already satisfied: rfc3986<2,>=1.3 in /usr/local/lib/python3.11/dist-packages (from httpx==0.13.3->googletrans==4.0.0-rc1) (1.5.0)\n",
            "Requirement already satisfied: httpcore==0.9.* in /usr/local/lib/python3.11/dist-packages (from httpx==0.13.3->googletrans==4.0.0-rc1) (0.9.1)\n",
            "Requirement already satisfied: h11<0.10,>=0.8 in /usr/local/lib/python3.11/dist-packages (from httpcore==0.9.*->httpx==0.13.3->googletrans==4.0.0-rc1) (0.9.0)\n",
            "Requirement already satisfied: h2==3.* in /usr/local/lib/python3.11/dist-packages (from httpcore==0.9.*->httpx==0.13.3->googletrans==4.0.0-rc1) (3.2.0)\n",
            "Requirement already satisfied: hyperframe<6,>=5.2.0 in /usr/local/lib/python3.11/dist-packages (from h2==3.*->httpcore==0.9.*->httpx==0.13.3->googletrans==4.0.0-rc1) (5.2.0)\n",
            "Requirement already satisfied: hpack<4,>=3.0 in /usr/local/lib/python3.11/dist-packages (from h2==3.*->httpcore==0.9.*->httpx==0.13.3->googletrans==4.0.0-rc1) (3.0.0)\n"
          ]
        }
      ]
    },
    {
      "cell_type": "code",
      "source": [
        "def translated_summary(text, dest_language):\n",
        "    \"\"\"\n",
        "    Translates the input text to the specified destination language.\n",
        "\n",
        "    Args:\n",
        "        text (str): The text to translate.\n",
        "        dest_language (str): The language code of the desired translation.\n",
        "\n",
        "    Returns:\n",
        "        str: The translated text.\n",
        "    \"\"\""
      ],
      "metadata": {
        "id": "1pc-LugKUE8W"
      },
      "execution_count": null,
      "outputs": []
    },
    {
      "cell_type": "code",
      "source": [
        "from googletrans import Translator\n",
        "t = Translator()\n",
        "from googletrans import Translator\n",
        "t = Translator()\n",
        "text = input(\"Enter the text : \")\n",
        "translated = t.translate(text,src=\"en\", dest='te')\n",
        "print(translated.text)"
      ],
      "metadata": {
        "colab": {
          "base_uri": "https://localhost:8080/"
        },
        "id": "sVkxArJ3UMi2",
        "outputId": "44b07066-df2f-4f5b-9840-0a385aa384ff"
      },
      "execution_count": null,
      "outputs": [
        {
          "output_type": "stream",
          "name": "stdout",
          "text": [
            "Enter the text : i hate u\n",
            "నేను నిన్ను ద్వేషిస్తున్నాను\n"
          ]
        }
      ]
    },
    {
      "cell_type": "code",
      "source": [
        "from googletrans import LANGUAGES\n",
        "available_languages = LANGUAGES\n",
        "print(\"Available languages:\",available_languages)"
      ],
      "metadata": {
        "colab": {
          "base_uri": "https://localhost:8080/"
        },
        "id": "6AD2uIkVUOFa",
        "outputId": "3957175a-8c32-4172-c3fb-1f9ad0bff76e"
      },
      "execution_count": null,
      "outputs": [
        {
          "output_type": "stream",
          "name": "stdout",
          "text": [
            "Available languages: {'af': 'afrikaans', 'sq': 'albanian', 'am': 'amharic', 'ar': 'arabic', 'hy': 'armenian', 'az': 'azerbaijani', 'eu': 'basque', 'be': 'belarusian', 'bn': 'bengali', 'bs': 'bosnian', 'bg': 'bulgarian', 'ca': 'catalan', 'ceb': 'cebuano', 'ny': 'chichewa', 'zh-cn': 'chinese (simplified)', 'zh-tw': 'chinese (traditional)', 'co': 'corsican', 'hr': 'croatian', 'cs': 'czech', 'da': 'danish', 'nl': 'dutch', 'en': 'english', 'eo': 'esperanto', 'et': 'estonian', 'tl': 'filipino', 'fi': 'finnish', 'fr': 'french', 'fy': 'frisian', 'gl': 'galician', 'ka': 'georgian', 'de': 'german', 'el': 'greek', 'gu': 'gujarati', 'ht': 'haitian creole', 'ha': 'hausa', 'haw': 'hawaiian', 'iw': 'hebrew', 'he': 'hebrew', 'hi': 'hindi', 'hmn': 'hmong', 'hu': 'hungarian', 'is': 'icelandic', 'ig': 'igbo', 'id': 'indonesian', 'ga': 'irish', 'it': 'italian', 'ja': 'japanese', 'jw': 'javanese', 'kn': 'kannada', 'kk': 'kazakh', 'km': 'khmer', 'ko': 'korean', 'ku': 'kurdish (kurmanji)', 'ky': 'kyrgyz', 'lo': 'lao', 'la': 'latin', 'lv': 'latvian', 'lt': 'lithuanian', 'lb': 'luxembourgish', 'mk': 'macedonian', 'mg': 'malagasy', 'ms': 'malay', 'ml': 'malayalam', 'mt': 'maltese', 'mi': 'maori', 'mr': 'marathi', 'mn': 'mongolian', 'my': 'myanmar (burmese)', 'ne': 'nepali', 'no': 'norwegian', 'or': 'odia', 'ps': 'pashto', 'fa': 'persian', 'pl': 'polish', 'pt': 'portuguese', 'pa': 'punjabi', 'ro': 'romanian', 'ru': 'russian', 'sm': 'samoan', 'gd': 'scots gaelic', 'sr': 'serbian', 'st': 'sesotho', 'sn': 'shona', 'sd': 'sindhi', 'si': 'sinhala', 'sk': 'slovak', 'sl': 'slovenian', 'so': 'somali', 'es': 'spanish', 'su': 'sundanese', 'sw': 'swahili', 'sv': 'swedish', 'tg': 'tajik', 'ta': 'tamil', 'te': 'telugu', 'th': 'thai', 'tr': 'turkish', 'uk': 'ukrainian', 'ur': 'urdu', 'ug': 'uyghur', 'uz': 'uzbek', 'vi': 'vietnamese', 'cy': 'welsh', 'xh': 'xhosa', 'yi': 'yiddish', 'yo': 'yoruba', 'zu': 'zulu'}\n"
          ]
        }
      ]
    },
    {
      "cell_type": "code",
      "source": [
        "print(\"please select a language code from the following list:\")\n",
        "for code, language in available_languages.items():\n",
        "    print(f\"{code}: {language}\")"
      ],
      "metadata": {
        "colab": {
          "base_uri": "https://localhost:8080/"
        },
        "id": "5b2TCfmKUhx9",
        "outputId": "d8a78db4-6785-49fb-f8bf-0d61d034a49c"
      },
      "execution_count": null,
      "outputs": [
        {
          "output_type": "stream",
          "name": "stdout",
          "text": [
            "please select a language code from the following list:\n",
            "af: afrikaans\n",
            "sq: albanian\n",
            "am: amharic\n",
            "ar: arabic\n",
            "hy: armenian\n",
            "az: azerbaijani\n",
            "eu: basque\n",
            "be: belarusian\n",
            "bn: bengali\n",
            "bs: bosnian\n",
            "bg: bulgarian\n",
            "ca: catalan\n",
            "ceb: cebuano\n",
            "ny: chichewa\n",
            "zh-cn: chinese (simplified)\n",
            "zh-tw: chinese (traditional)\n",
            "co: corsican\n",
            "hr: croatian\n",
            "cs: czech\n",
            "da: danish\n",
            "nl: dutch\n",
            "en: english\n",
            "eo: esperanto\n",
            "et: estonian\n",
            "tl: filipino\n",
            "fi: finnish\n",
            "fr: french\n",
            "fy: frisian\n",
            "gl: galician\n",
            "ka: georgian\n",
            "de: german\n",
            "el: greek\n",
            "gu: gujarati\n",
            "ht: haitian creole\n",
            "ha: hausa\n",
            "haw: hawaiian\n",
            "iw: hebrew\n",
            "he: hebrew\n",
            "hi: hindi\n",
            "hmn: hmong\n",
            "hu: hungarian\n",
            "is: icelandic\n",
            "ig: igbo\n",
            "id: indonesian\n",
            "ga: irish\n",
            "it: italian\n",
            "ja: japanese\n",
            "jw: javanese\n",
            "kn: kannada\n",
            "kk: kazakh\n",
            "km: khmer\n",
            "ko: korean\n",
            "ku: kurdish (kurmanji)\n",
            "ky: kyrgyz\n",
            "lo: lao\n",
            "la: latin\n",
            "lv: latvian\n",
            "lt: lithuanian\n",
            "lb: luxembourgish\n",
            "mk: macedonian\n",
            "mg: malagasy\n",
            "ms: malay\n",
            "ml: malayalam\n",
            "mt: maltese\n",
            "mi: maori\n",
            "mr: marathi\n",
            "mn: mongolian\n",
            "my: myanmar (burmese)\n",
            "ne: nepali\n",
            "no: norwegian\n",
            "or: odia\n",
            "ps: pashto\n",
            "fa: persian\n",
            "pl: polish\n",
            "pt: portuguese\n",
            "pa: punjabi\n",
            "ro: romanian\n",
            "ru: russian\n",
            "sm: samoan\n",
            "gd: scots gaelic\n",
            "sr: serbian\n",
            "st: sesotho\n",
            "sn: shona\n",
            "sd: sindhi\n",
            "si: sinhala\n",
            "sk: slovak\n",
            "sl: slovenian\n",
            "so: somali\n",
            "es: spanish\n",
            "su: sundanese\n",
            "sw: swahili\n",
            "sv: swedish\n",
            "tg: tajik\n",
            "ta: tamil\n",
            "te: telugu\n",
            "th: thai\n",
            "tr: turkish\n",
            "uk: ukrainian\n",
            "ur: urdu\n",
            "ug: uyghur\n",
            "uz: uzbek\n",
            "vi: vietnamese\n",
            "cy: welsh\n",
            "xh: xhosa\n",
            "yi: yiddish\n",
            "yo: yoruba\n",
            "zu: zulu\n"
          ]
        }
      ]
    },
    {
      "cell_type": "code",
      "source": [
        "summary = \"Thank you for attending today meeting. thank you okay with Bonnie everyone . Google do you have any questions? Please email us at the end of the meeting. We'll be happy to answer any of our questions. Please share your thoughts with us on Twitter @dailymailonline.com and iReport .\"\n",
        "selected_language = input(\"\\nEnter the language code you want to translate to: \")"
      ],
      "metadata": {
        "colab": {
          "base_uri": "https://localhost:8080/"
        },
        "id": "W1fILGBsUkHH",
        "outputId": "4e796067-aa45-4d46-a745-1ea2c3c31da9"
      },
      "execution_count": null,
      "outputs": [
        {
          "name": "stdout",
          "output_type": "stream",
          "text": [
            "\n",
            "Enter the language code you want to translate to: ra\n"
          ]
        }
      ]
    },
    {
      "cell_type": "code",
      "source": [
        "if selected_language in available_languages:\n",
        "  translated_summary_text = translated_summary(summary, selected_language)\n",
        "  print(f\"\\nTranslated Summary({available_languages[selected_language]}):\")\n",
        "  print(translated_summary_text)\n",
        "else:\n",
        "    print(f\"Error: Invalid language code '{selected_language}'. Please select a code from the available languages.\")"
      ],
      "metadata": {
        "colab": {
          "base_uri": "https://localhost:8080/"
        },
        "id": "zjAMKndrUmPF",
        "outputId": "07af19a1-c942-493a-c890-44238e759455"
      },
      "execution_count": null,
      "outputs": [
        {
          "output_type": "stream",
          "name": "stdout",
          "text": [
            "Error: Invalid language code 'ra'. Please select a code from the available languages.\n"
          ]
        }
      ]
    },
    {
      "cell_type": "code",
      "source": [],
      "metadata": {
        "id": "jvS-HugeUo6A"
      },
      "execution_count": null,
      "outputs": []
    }
  ]
}